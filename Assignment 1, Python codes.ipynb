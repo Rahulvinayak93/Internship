{
 "cells": [
  {
   "cell_type": "markdown",
   "id": "54cc2c08",
   "metadata": {},
   "source": [
    "Question 11. Write a python program to find the factorial of a number.\n"
   ]
  },
  {
   "cell_type": "code",
   "execution_count": 4,
   "id": "d917635f",
   "metadata": {},
   "outputs": [],
   "source": [
    "def find_factorial(x):\n",
    "    number = x\n",
    "    counter = 1\n",
    "    Factorial = 1\n",
    "\n",
    "    while counter <=number:\n",
    "        Factorial = Factorial*counter\n",
    "        counter +=1\n",
    "\n",
    "    print('Factorial of',number,'is',Factorial)"
   ]
  },
  {
   "cell_type": "markdown",
   "id": "149bbbe5",
   "metadata": {},
   "source": [
    "Question 12. Write a python program to find whether a number is prime or composite."
   ]
  },
  {
   "cell_type": "code",
   "execution_count": 6,
   "id": "440d3ed9",
   "metadata": {},
   "outputs": [],
   "source": [
    "def number_check(x):\n",
    "    number = x\n",
    "    count = 0\n",
    "    \n",
    "    for i in range(1,x):\n",
    "        if x%i ==0:\n",
    "            count +=1\n",
    "    if count == 1:\n",
    "        print(x,'is a prime number')\n",
    "    else :\n",
    "        print(x,'is a composite number')"
   ]
  },
  {
   "cell_type": "markdown",
   "id": "9ef9025a",
   "metadata": {},
   "source": [
    "Question 13. Write a python program to check whether a given string is palindrome or not."
   ]
  },
  {
   "cell_type": "code",
   "execution_count": 8,
   "id": "a1527702",
   "metadata": {},
   "outputs": [],
   "source": [
    "def palindrome_check (x):\n",
    "    \n",
    "    orig = str(x)\n",
    "    test1 = []\n",
    "    test2 = []\n",
    "    \n",
    "    for i in orig.lower():\n",
    "        if i == \" \":\n",
    "            continue\n",
    "        test1.append(i)\n",
    "\n",
    "\n",
    "\n",
    "    for i in orig.lower():\n",
    "        if i == \" \":\n",
    "            continue\n",
    "        test2.append(i)\n",
    "\n",
    "    test2.reverse()\n",
    "\n",
    "\n",
    "\n",
    "    if test1 == test2:\n",
    "        print(orig,'is a palindrome')\n",
    "    else :\n",
    "        print(orig,'is not a palindrome')"
   ]
  },
  {
   "cell_type": "markdown",
   "id": "956f4f34",
   "metadata": {},
   "source": [
    "Question 14. Write a Python program to get the third side of right-angled triangle from two given sides."
   ]
  },
  {
   "cell_type": "code",
   "execution_count": 11,
   "id": "98f24627",
   "metadata": {},
   "outputs": [],
   "source": [
    "def third_side(x,y):\n",
    "    \n",
    "    import numpy as np\n",
    "    \n",
    "    # when x and y are non perpendicular sides\n",
    "    z_nondiagnol = np.sqrt((max(x,y)**2)-(min(x,y)**2))\n",
    "    print('If the 2 sides are not perpendicular to each other the third side is',z_nondiagnol)\n",
    "    \n",
    "    # when x and y are perpendicular sides\n",
    "    z_diagnol = np.sqrt((x**2)+(y**2))\n",
    "    print('If the 2 sides are perpendicular to each other the third side is',z_diagnol)"
   ]
  },
  {
   "cell_type": "markdown",
   "id": "92f00f1d",
   "metadata": {},
   "source": [
    "Question 15. Write a python program to print the frequency of each of the characters present in a given string"
   ]
  },
  {
   "cell_type": "code",
   "execution_count": 12,
   "id": "6bf2cd0d",
   "metadata": {},
   "outputs": [],
   "source": [
    " def count_strings(x):\n",
    "    string = str(x)\n",
    "    y = []\n",
    "    z = []\n",
    "\n",
    "\n",
    "    for i in string.lower():\n",
    "        y.append(i)\n",
    "        z.append(i)\n",
    "\n",
    "    z = set(z)\n",
    "\n",
    "    for i in z:\n",
    "        print(i,'is apprearing',y.count(i),'times')"
   ]
  },
  {
   "cell_type": "code",
   "execution_count": null,
   "id": "df250bcd",
   "metadata": {},
   "outputs": [],
   "source": []
  }
 ],
 "metadata": {
  "kernelspec": {
   "display_name": "Python 3",
   "language": "python",
   "name": "python3"
  },
  "language_info": {
   "codemirror_mode": {
    "name": "ipython",
    "version": 3
   },
   "file_extension": ".py",
   "mimetype": "text/x-python",
   "name": "python",
   "nbconvert_exporter": "python",
   "pygments_lexer": "ipython3",
   "version": "3.8.8"
  }
 },
 "nbformat": 4,
 "nbformat_minor": 5
}
